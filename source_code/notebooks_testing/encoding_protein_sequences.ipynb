{
 "cells": [
  {
   "cell_type": "code",
   "execution_count": 1,
   "metadata": {},
   "outputs": [],
   "source": [
    "import sys\n",
    "sys.path.insert(0, '../')\n",
    "from numerical_representation_strategies.physicochemical_properties import physicochemical_encoder\n",
    "from numerical_representation_strategies.fft_encoding import fft_encoding\n",
    "from numerical_representation_strategies.constant_values import constant_values\n",
    "\n",
    "import pandas as pd"
   ]
  },
  {
   "cell_type": "code",
   "execution_count": 2,
   "metadata": {},
   "outputs": [],
   "source": [
    "sequences = ['ATGRGTG', 'PLPLKMN', 'DFRRFGTT', 'CCCFVFVGMM']\n",
    "id_seq = [1, 2, 3, 4]\n",
    "\n",
    "df_data = pd.DataFrame()\n",
    "\n",
    "df_data['sequence'] = sequences\n",
    "df_data['id_seq'] = id_seq\n"
   ]
  },
  {
   "cell_type": "code",
   "execution_count": 3,
   "metadata": {},
   "outputs": [],
   "source": [
    "property_to_use = 'ANDN920101'\n",
    "encoders = pd.read_csv(\"../../inputs_encoder/aaindex_encoders.csv\")\n",
    "encoders.index = encoders['residue']\n",
    "\n",
    "column_with_seq = 'sequence'\n",
    "column_with_id = 'id_seq'"
   ]
  },
  {
   "cell_type": "code",
   "execution_count": 4,
   "metadata": {},
   "outputs": [
    {
     "name": "stdout",
     "output_type": "stream",
     "text": [
      "Instance object\n"
     ]
    }
   ],
   "source": [
    "print(\"Instance object\")\n",
    "encoding_instance = physicochemical_encoder(df_data,\n",
    "                 property_to_use,\n",
    "                 encoders,\n",
    "                 constant_values(),\n",
    "                 column_with_seq,\n",
    "                 column_with_id)"
   ]
  },
  {
   "cell_type": "code",
   "execution_count": 5,
   "metadata": {},
   "outputs": [
    {
     "name": "stdout",
     "output_type": "stream",
     "text": [
      "Processing results\n",
      "Creating dataset\n",
      "Export dataset\n"
     ]
    },
    {
     "data": {
      "text/html": [
       "<div>\n",
       "<style scoped>\n",
       "    .dataframe tbody tr th:only-of-type {\n",
       "        vertical-align: middle;\n",
       "    }\n",
       "\n",
       "    .dataframe tbody tr th {\n",
       "        vertical-align: top;\n",
       "    }\n",
       "\n",
       "    .dataframe thead th {\n",
       "        text-align: right;\n",
       "    }\n",
       "</style>\n",
       "<table border=\"1\" class=\"dataframe\">\n",
       "  <thead>\n",
       "    <tr style=\"text-align: right;\">\n",
       "      <th></th>\n",
       "      <th>id_seq</th>\n",
       "      <th>p_0</th>\n",
       "      <th>p_1</th>\n",
       "      <th>p_2</th>\n",
       "      <th>p_3</th>\n",
       "      <th>p_4</th>\n",
       "      <th>p_5</th>\n",
       "      <th>p_6</th>\n",
       "      <th>p_7</th>\n",
       "      <th>p_8</th>\n",
       "      <th>p_9</th>\n",
       "    </tr>\n",
       "  </thead>\n",
       "  <tbody>\n",
       "    <tr>\n",
       "      <th>0</th>\n",
       "      <td>1</td>\n",
       "      <td>4.35</td>\n",
       "      <td>4.35</td>\n",
       "      <td>3.97</td>\n",
       "      <td>4.38</td>\n",
       "      <td>3.97</td>\n",
       "      <td>4.35</td>\n",
       "      <td>3.97</td>\n",
       "      <td>0.00</td>\n",
       "      <td>0.00</td>\n",
       "      <td>0.00</td>\n",
       "    </tr>\n",
       "    <tr>\n",
       "      <th>1</th>\n",
       "      <td>2</td>\n",
       "      <td>4.44</td>\n",
       "      <td>4.17</td>\n",
       "      <td>4.44</td>\n",
       "      <td>4.17</td>\n",
       "      <td>4.36</td>\n",
       "      <td>4.52</td>\n",
       "      <td>4.75</td>\n",
       "      <td>0.00</td>\n",
       "      <td>0.00</td>\n",
       "      <td>0.00</td>\n",
       "    </tr>\n",
       "    <tr>\n",
       "      <th>2</th>\n",
       "      <td>3</td>\n",
       "      <td>4.76</td>\n",
       "      <td>4.66</td>\n",
       "      <td>4.38</td>\n",
       "      <td>4.38</td>\n",
       "      <td>4.66</td>\n",
       "      <td>3.97</td>\n",
       "      <td>4.35</td>\n",
       "      <td>4.35</td>\n",
       "      <td>0.00</td>\n",
       "      <td>0.00</td>\n",
       "    </tr>\n",
       "    <tr>\n",
       "      <th>3</th>\n",
       "      <td>4</td>\n",
       "      <td>4.65</td>\n",
       "      <td>4.65</td>\n",
       "      <td>4.65</td>\n",
       "      <td>4.66</td>\n",
       "      <td>3.95</td>\n",
       "      <td>4.66</td>\n",
       "      <td>3.95</td>\n",
       "      <td>3.97</td>\n",
       "      <td>4.52</td>\n",
       "      <td>4.52</td>\n",
       "    </tr>\n",
       "  </tbody>\n",
       "</table>\n",
       "</div>"
      ],
      "text/plain": [
       "   id_seq   p_0   p_1   p_2   p_3   p_4   p_5   p_6   p_7   p_8   p_9\n",
       "0       1  4.35  4.35  3.97  4.38  3.97  4.35  3.97  0.00  0.00  0.00\n",
       "1       2  4.44  4.17  4.44  4.17  4.36  4.52  4.75  0.00  0.00  0.00\n",
       "2       3  4.76  4.66  4.38  4.38  4.66  3.97  4.35  4.35  0.00  0.00\n",
       "3       4  4.65  4.65  4.65  4.66  3.95  4.66  3.95  3.97  4.52  4.52"
      ]
     },
     "execution_count": 5,
     "metadata": {},
     "output_type": "execute_result"
    }
   ],
   "source": [
    "df_data = encoding_instance.encoding_dataset()\n",
    "df_data"
   ]
  },
  {
   "cell_type": "code",
   "execution_count": 6,
   "metadata": {},
   "outputs": [
    {
     "name": "stdout",
     "output_type": "stream",
     "text": [
      "Encoding FFT\n",
      "Processin data\n",
      "Get near pow 2 value\n",
      "Apply zero padding\n",
      "Start FFT encoding process\n",
      "Processing results\n",
      "Creating dataset\n",
      "Export dataset\n"
     ]
    },
    {
     "data": {
      "text/html": [
       "<div>\n",
       "<style scoped>\n",
       "    .dataframe tbody tr th:only-of-type {\n",
       "        vertical-align: middle;\n",
       "    }\n",
       "\n",
       "    .dataframe tbody tr th {\n",
       "        vertical-align: top;\n",
       "    }\n",
       "\n",
       "    .dataframe thead th {\n",
       "        text-align: right;\n",
       "    }\n",
       "</style>\n",
       "<table border=\"1\" class=\"dataframe\">\n",
       "  <thead>\n",
       "    <tr style=\"text-align: right;\">\n",
       "      <th></th>\n",
       "      <th>p_0</th>\n",
       "      <th>p_1</th>\n",
       "      <th>p_2</th>\n",
       "      <th>p_3</th>\n",
       "      <th>p_4</th>\n",
       "      <th>p_5</th>\n",
       "      <th>p_6</th>\n",
       "      <th>p_7</th>\n",
       "      <th>id_seq</th>\n",
       "    </tr>\n",
       "  </thead>\n",
       "  <tbody>\n",
       "    <tr>\n",
       "      <th>0</th>\n",
       "      <td>29.34</td>\n",
       "      <td>21.054286</td>\n",
       "      <td>4.120071</td>\n",
       "      <td>6.421647</td>\n",
       "      <td>4.336681</td>\n",
       "      <td>2.880016</td>\n",
       "      <td>4.656460</td>\n",
       "      <td>0.351290</td>\n",
       "      <td>1</td>\n",
       "    </tr>\n",
       "    <tr>\n",
       "      <th>1</th>\n",
       "      <td>30.85</td>\n",
       "      <td>21.967524</td>\n",
       "      <td>3.927825</td>\n",
       "      <td>7.097809</td>\n",
       "      <td>4.536794</td>\n",
       "      <td>3.178685</td>\n",
       "      <td>4.449718</td>\n",
       "      <td>1.332269</td>\n",
       "      <td>2</td>\n",
       "    </tr>\n",
       "    <tr>\n",
       "      <th>2</th>\n",
       "      <td>35.51</td>\n",
       "      <td>22.607384</td>\n",
       "      <td>0.782167</td>\n",
       "      <td>8.010711</td>\n",
       "      <td>0.697209</td>\n",
       "      <td>6.169504</td>\n",
       "      <td>0.603336</td>\n",
       "      <td>4.350394</td>\n",
       "      <td>3</td>\n",
       "    </tr>\n",
       "    <tr>\n",
       "      <th>3</th>\n",
       "      <td>44.18</td>\n",
       "      <td>20.420916</td>\n",
       "      <td>9.049990</td>\n",
       "      <td>2.983148</td>\n",
       "      <td>6.889877</td>\n",
       "      <td>2.206220</td>\n",
       "      <td>3.899600</td>\n",
       "      <td>4.175312</td>\n",
       "      <td>4</td>\n",
       "    </tr>\n",
       "  </tbody>\n",
       "</table>\n",
       "</div>"
      ],
      "text/plain": [
       "     p_0        p_1       p_2       p_3       p_4       p_5       p_6  \\\n",
       "0  29.34  21.054286  4.120071  6.421647  4.336681  2.880016  4.656460   \n",
       "1  30.85  21.967524  3.927825  7.097809  4.536794  3.178685  4.449718   \n",
       "2  35.51  22.607384  0.782167  8.010711  0.697209  6.169504  0.603336   \n",
       "3  44.18  20.420916  9.049990  2.983148  6.889877  2.206220  3.899600   \n",
       "\n",
       "        p_7  id_seq  \n",
       "0  0.351290       1  \n",
       "1  1.332269       2  \n",
       "2  4.350394       3  \n",
       "3  4.175312       4  "
      ]
     },
     "execution_count": 6,
     "metadata": {},
     "output_type": "execute_result"
    }
   ],
   "source": [
    "print(\"Encoding FFT\")\n",
    "fft_encoding_instance = fft_encoding(df_data,\n",
    "                                     len(df_data.columns)-1,\n",
    "                                     column_with_id,\n",
    "                                     constant_values())\n",
    "\n",
    "df_data_2 = fft_encoding_instance.encoding_dataset()\n",
    "df_data_2"
   ]
  }
 ],
 "metadata": {
  "kernelspec": {
   "display_name": "Python 3.10.6 ('deep_learning_exploring')",
   "language": "python",
   "name": "python3"
  },
  "language_info": {
   "codemirror_mode": {
    "name": "ipython",
    "version": 3
   },
   "file_extension": ".py",
   "mimetype": "text/x-python",
   "name": "python",
   "nbconvert_exporter": "python",
   "pygments_lexer": "ipython3",
   "version": "3.10.6"
  },
  "orig_nbformat": 4,
  "vscode": {
   "interpreter": {
    "hash": "40e745f296283c3457427b1d4d0e6f488c7d44751c90dcd83420fd4dcb83c0cc"
   }
  }
 },
 "nbformat": 4,
 "nbformat_minor": 2
}
